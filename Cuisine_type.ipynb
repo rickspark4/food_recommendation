{
 "cells": [
  {
   "cell_type": "code",
   "execution_count": 1,
   "id": "2178520b",
   "metadata": {},
   "outputs": [],
   "source": [
    "import pandas as pd\n",
    "import json"
   ]
  },
  {
   "cell_type": "code",
   "execution_count": 2,
   "id": "723322a1",
   "metadata": {},
   "outputs": [],
   "source": [
    "with open(\"train.json\") as datafile:\n",
    "    data = json.load(datafile)\n",
    "dataframe = pd.DataFrame(data)\n"
   ]
  },
  {
   "cell_type": "code",
   "execution_count": 3,
   "id": "4501a2e8",
   "metadata": {},
   "outputs": [],
   "source": [
    "dataframe.to_csv('cuisine.csv')"
   ]
  },
  {
   "cell_type": "code",
   "execution_count": 4,
   "id": "5ec15733",
   "metadata": {},
   "outputs": [],
   "source": [
    "df = pd.read_csv('cuisine.csv')"
   ]
  },
  {
   "cell_type": "code",
   "execution_count": 5,
   "id": "e8af9b95",
   "metadata": {},
   "outputs": [
    {
     "data": {
      "text/html": [
       "<div>\n",
       "<style scoped>\n",
       "    .dataframe tbody tr th:only-of-type {\n",
       "        vertical-align: middle;\n",
       "    }\n",
       "\n",
       "    .dataframe tbody tr th {\n",
       "        vertical-align: top;\n",
       "    }\n",
       "\n",
       "    .dataframe thead th {\n",
       "        text-align: right;\n",
       "    }\n",
       "</style>\n",
       "<table border=\"1\" class=\"dataframe\">\n",
       "  <thead>\n",
       "    <tr style=\"text-align: right;\">\n",
       "      <th></th>\n",
       "      <th>Unnamed: 0</th>\n",
       "      <th>id</th>\n",
       "      <th>cuisine</th>\n",
       "      <th>ingredients</th>\n",
       "    </tr>\n",
       "  </thead>\n",
       "  <tbody>\n",
       "    <tr>\n",
       "      <th>0</th>\n",
       "      <td>0</td>\n",
       "      <td>10259</td>\n",
       "      <td>greek</td>\n",
       "      <td>['romaine lettuce', 'black olives', 'grape tom...</td>\n",
       "    </tr>\n",
       "    <tr>\n",
       "      <th>1</th>\n",
       "      <td>1</td>\n",
       "      <td>25693</td>\n",
       "      <td>southern_us</td>\n",
       "      <td>['plain flour', 'ground pepper', 'salt', 'toma...</td>\n",
       "    </tr>\n",
       "    <tr>\n",
       "      <th>2</th>\n",
       "      <td>2</td>\n",
       "      <td>20130</td>\n",
       "      <td>filipino</td>\n",
       "      <td>['eggs', 'pepper', 'salt', 'mayonaise', 'cooki...</td>\n",
       "    </tr>\n",
       "    <tr>\n",
       "      <th>3</th>\n",
       "      <td>3</td>\n",
       "      <td>22213</td>\n",
       "      <td>indian</td>\n",
       "      <td>['water', 'vegetable oil', 'wheat', 'salt']</td>\n",
       "    </tr>\n",
       "    <tr>\n",
       "      <th>4</th>\n",
       "      <td>4</td>\n",
       "      <td>13162</td>\n",
       "      <td>indian</td>\n",
       "      <td>['black pepper', 'shallots', 'cornflour', 'cay...</td>\n",
       "    </tr>\n",
       "    <tr>\n",
       "      <th>...</th>\n",
       "      <td>...</td>\n",
       "      <td>...</td>\n",
       "      <td>...</td>\n",
       "      <td>...</td>\n",
       "    </tr>\n",
       "    <tr>\n",
       "      <th>39769</th>\n",
       "      <td>39769</td>\n",
       "      <td>29109</td>\n",
       "      <td>irish</td>\n",
       "      <td>['light brown sugar', 'granulated sugar', 'but...</td>\n",
       "    </tr>\n",
       "    <tr>\n",
       "      <th>39770</th>\n",
       "      <td>39770</td>\n",
       "      <td>11462</td>\n",
       "      <td>italian</td>\n",
       "      <td>['KRAFT Zesty Italian Dressing', 'purple onion...</td>\n",
       "    </tr>\n",
       "    <tr>\n",
       "      <th>39771</th>\n",
       "      <td>39771</td>\n",
       "      <td>2238</td>\n",
       "      <td>irish</td>\n",
       "      <td>['eggs', 'citrus fruit', 'raisins', 'sourdough...</td>\n",
       "    </tr>\n",
       "    <tr>\n",
       "      <th>39772</th>\n",
       "      <td>39772</td>\n",
       "      <td>41882</td>\n",
       "      <td>chinese</td>\n",
       "      <td>['boneless chicken skinless thigh', 'minced ga...</td>\n",
       "    </tr>\n",
       "    <tr>\n",
       "      <th>39773</th>\n",
       "      <td>39773</td>\n",
       "      <td>2362</td>\n",
       "      <td>mexican</td>\n",
       "      <td>['green chile', 'jalapeno chilies', 'onions', ...</td>\n",
       "    </tr>\n",
       "  </tbody>\n",
       "</table>\n",
       "<p>39774 rows × 4 columns</p>\n",
       "</div>"
      ],
      "text/plain": [
       "       Unnamed: 0     id      cuisine  \\\n",
       "0               0  10259        greek   \n",
       "1               1  25693  southern_us   \n",
       "2               2  20130     filipino   \n",
       "3               3  22213       indian   \n",
       "4               4  13162       indian   \n",
       "...           ...    ...          ...   \n",
       "39769       39769  29109        irish   \n",
       "39770       39770  11462      italian   \n",
       "39771       39771   2238        irish   \n",
       "39772       39772  41882      chinese   \n",
       "39773       39773   2362      mexican   \n",
       "\n",
       "                                             ingredients  \n",
       "0      ['romaine lettuce', 'black olives', 'grape tom...  \n",
       "1      ['plain flour', 'ground pepper', 'salt', 'toma...  \n",
       "2      ['eggs', 'pepper', 'salt', 'mayonaise', 'cooki...  \n",
       "3            ['water', 'vegetable oil', 'wheat', 'salt']  \n",
       "4      ['black pepper', 'shallots', 'cornflour', 'cay...  \n",
       "...                                                  ...  \n",
       "39769  ['light brown sugar', 'granulated sugar', 'but...  \n",
       "39770  ['KRAFT Zesty Italian Dressing', 'purple onion...  \n",
       "39771  ['eggs', 'citrus fruit', 'raisins', 'sourdough...  \n",
       "39772  ['boneless chicken skinless thigh', 'minced ga...  \n",
       "39773  ['green chile', 'jalapeno chilies', 'onions', ...  \n",
       "\n",
       "[39774 rows x 4 columns]"
      ]
     },
     "execution_count": 5,
     "metadata": {},
     "output_type": "execute_result"
    }
   ],
   "source": [
    "df"
   ]
  },
  {
   "cell_type": "code",
   "execution_count": 6,
   "id": "2bea3dac",
   "metadata": {},
   "outputs": [
    {
     "data": {
      "text/plain": [
       "array(['greek', 'southern_us', 'filipino', 'indian', 'jamaican',\n",
       "       'spanish', 'italian', 'mexican', 'chinese', 'british', 'thai',\n",
       "       'vietnamese', 'cajun_creole', 'brazilian', 'french', 'japanese',\n",
       "       'irish', 'korean', 'moroccan', 'russian'], dtype=object)"
      ]
     },
     "execution_count": 6,
     "metadata": {},
     "output_type": "execute_result"
    }
   ],
   "source": [
    "df['cuisine'].unique()"
   ]
  },
  {
   "cell_type": "code",
   "execution_count": 7,
   "id": "de44c0b8",
   "metadata": {},
   "outputs": [
    {
     "data": {
      "text/plain": [
       "20"
      ]
     },
     "execution_count": 7,
     "metadata": {},
     "output_type": "execute_result"
    }
   ],
   "source": [
    "len(df['cuisine'].unique())"
   ]
  },
  {
   "cell_type": "code",
   "execution_count": 8,
   "id": "bdd95d37",
   "metadata": {},
   "outputs": [
    {
     "data": {
      "text/html": [
       "<div>\n",
       "<style scoped>\n",
       "    .dataframe tbody tr th:only-of-type {\n",
       "        vertical-align: middle;\n",
       "    }\n",
       "\n",
       "    .dataframe tbody tr th {\n",
       "        vertical-align: top;\n",
       "    }\n",
       "\n",
       "    .dataframe thead th {\n",
       "        text-align: right;\n",
       "    }\n",
       "</style>\n",
       "<table border=\"1\" class=\"dataframe\">\n",
       "  <thead>\n",
       "    <tr style=\"text-align: right;\">\n",
       "      <th></th>\n",
       "      <th>Unnamed: 0</th>\n",
       "      <th>id</th>\n",
       "      <th>cuisine</th>\n",
       "      <th>ingredients</th>\n",
       "    </tr>\n",
       "  </thead>\n",
       "  <tbody>\n",
       "    <tr>\n",
       "      <th>0</th>\n",
       "      <td>0</td>\n",
       "      <td>10259</td>\n",
       "      <td>greek</td>\n",
       "      <td>['romaine lettuce', 'black olives', 'grape tom...</td>\n",
       "    </tr>\n",
       "    <tr>\n",
       "      <th>1</th>\n",
       "      <td>1</td>\n",
       "      <td>25693</td>\n",
       "      <td>southern_us</td>\n",
       "      <td>['plain flour', 'ground pepper', 'salt', 'toma...</td>\n",
       "    </tr>\n",
       "    <tr>\n",
       "      <th>2</th>\n",
       "      <td>2</td>\n",
       "      <td>20130</td>\n",
       "      <td>filipino</td>\n",
       "      <td>['eggs', 'pepper', 'salt', 'mayonaise', 'cooki...</td>\n",
       "    </tr>\n",
       "    <tr>\n",
       "      <th>3</th>\n",
       "      <td>3</td>\n",
       "      <td>22213</td>\n",
       "      <td>indian</td>\n",
       "      <td>['water', 'vegetable oil', 'wheat', 'salt']</td>\n",
       "    </tr>\n",
       "    <tr>\n",
       "      <th>4</th>\n",
       "      <td>4</td>\n",
       "      <td>13162</td>\n",
       "      <td>indian</td>\n",
       "      <td>['black pepper', 'shallots', 'cornflour', 'cay...</td>\n",
       "    </tr>\n",
       "    <tr>\n",
       "      <th>...</th>\n",
       "      <td>...</td>\n",
       "      <td>...</td>\n",
       "      <td>...</td>\n",
       "      <td>...</td>\n",
       "    </tr>\n",
       "    <tr>\n",
       "      <th>39769</th>\n",
       "      <td>39769</td>\n",
       "      <td>29109</td>\n",
       "      <td>irish</td>\n",
       "      <td>['light brown sugar', 'granulated sugar', 'but...</td>\n",
       "    </tr>\n",
       "    <tr>\n",
       "      <th>39770</th>\n",
       "      <td>39770</td>\n",
       "      <td>11462</td>\n",
       "      <td>italian</td>\n",
       "      <td>['KRAFT Zesty Italian Dressing', 'purple onion...</td>\n",
       "    </tr>\n",
       "    <tr>\n",
       "      <th>39771</th>\n",
       "      <td>39771</td>\n",
       "      <td>2238</td>\n",
       "      <td>irish</td>\n",
       "      <td>['eggs', 'citrus fruit', 'raisins', 'sourdough...</td>\n",
       "    </tr>\n",
       "    <tr>\n",
       "      <th>39772</th>\n",
       "      <td>39772</td>\n",
       "      <td>41882</td>\n",
       "      <td>chinese</td>\n",
       "      <td>['boneless chicken skinless thigh', 'minced ga...</td>\n",
       "    </tr>\n",
       "    <tr>\n",
       "      <th>39773</th>\n",
       "      <td>39773</td>\n",
       "      <td>2362</td>\n",
       "      <td>mexican</td>\n",
       "      <td>['green chile', 'jalapeno chilies', 'onions', ...</td>\n",
       "    </tr>\n",
       "  </tbody>\n",
       "</table>\n",
       "<p>39774 rows × 4 columns</p>\n",
       "</div>"
      ],
      "text/plain": [
       "       Unnamed: 0     id      cuisine  \\\n",
       "0               0  10259        greek   \n",
       "1               1  25693  southern_us   \n",
       "2               2  20130     filipino   \n",
       "3               3  22213       indian   \n",
       "4               4  13162       indian   \n",
       "...           ...    ...          ...   \n",
       "39769       39769  29109        irish   \n",
       "39770       39770  11462      italian   \n",
       "39771       39771   2238        irish   \n",
       "39772       39772  41882      chinese   \n",
       "39773       39773   2362      mexican   \n",
       "\n",
       "                                             ingredients  \n",
       "0      ['romaine lettuce', 'black olives', 'grape tom...  \n",
       "1      ['plain flour', 'ground pepper', 'salt', 'toma...  \n",
       "2      ['eggs', 'pepper', 'salt', 'mayonaise', 'cooki...  \n",
       "3            ['water', 'vegetable oil', 'wheat', 'salt']  \n",
       "4      ['black pepper', 'shallots', 'cornflour', 'cay...  \n",
       "...                                                  ...  \n",
       "39769  ['light brown sugar', 'granulated sugar', 'but...  \n",
       "39770  ['KRAFT Zesty Italian Dressing', 'purple onion...  \n",
       "39771  ['eggs', 'citrus fruit', 'raisins', 'sourdough...  \n",
       "39772  ['boneless chicken skinless thigh', 'minced ga...  \n",
       "39773  ['green chile', 'jalapeno chilies', 'onions', ...  \n",
       "\n",
       "[39774 rows x 4 columns]"
      ]
     },
     "execution_count": 8,
     "metadata": {},
     "output_type": "execute_result"
    }
   ],
   "source": [
    "df"
   ]
  },
  {
   "cell_type": "code",
   "execution_count": 9,
   "id": "a48de9bb",
   "metadata": {},
   "outputs": [],
   "source": [
    "df_test = pd.read_csv('E:\\\\Data Science\\\\new idea\\\\Total_Final_Data_for_AutoEncoder.csv')"
   ]
  },
  {
   "cell_type": "code",
   "execution_count": 10,
   "id": "fd8e490f",
   "metadata": {},
   "outputs": [],
   "source": [
    "df_test = df_test[['unique_ingredients']]"
   ]
  },
  {
   "cell_type": "code",
   "execution_count": 11,
   "id": "7575c53d",
   "metadata": {},
   "outputs": [
    {
     "data": {
      "text/html": [
       "<div>\n",
       "<style scoped>\n",
       "    .dataframe tbody tr th:only-of-type {\n",
       "        vertical-align: middle;\n",
       "    }\n",
       "\n",
       "    .dataframe tbody tr th {\n",
       "        vertical-align: top;\n",
       "    }\n",
       "\n",
       "    .dataframe thead th {\n",
       "        text-align: right;\n",
       "    }\n",
       "</style>\n",
       "<table border=\"1\" class=\"dataframe\">\n",
       "  <thead>\n",
       "    <tr style=\"text-align: right;\">\n",
       "      <th></th>\n",
       "      <th>unique_ingredients</th>\n",
       "    </tr>\n",
       "  </thead>\n",
       "  <tbody>\n",
       "    <tr>\n",
       "      <th>0</th>\n",
       "      <td>['milk', 'water', 'butter', 'mashed', 'potato'...</td>\n",
       "    </tr>\n",
       "    <tr>\n",
       "      <th>1</th>\n",
       "      <td>['ounce', 'package', 'watermelon', 'gelatin', ...</td>\n",
       "    </tr>\n",
       "    <tr>\n",
       "      <th>2</th>\n",
       "      <td>['shredded', 'coconut', 'lb', 'lean', 'ground'...</td>\n",
       "    </tr>\n",
       "    <tr>\n",
       "      <th>3</th>\n",
       "      <td>['fresh', 'rhubarb', 'frozen', 'thawed', 'gran...</td>\n",
       "    </tr>\n",
       "    <tr>\n",
       "      <th>4</th>\n",
       "      <td>['flour', 'cinnamon', 'teaspoon', 'baking', 's...</td>\n",
       "    </tr>\n",
       "    <tr>\n",
       "      <th>...</th>\n",
       "      <td>...</td>\n",
       "    </tr>\n",
       "    <tr>\n",
       "      <th>592989</th>\n",
       "      <td>['text', 'c', 'lemon', 'juice', 'env', 'Good',...</td>\n",
       "    </tr>\n",
       "    <tr>\n",
       "      <th>592990</th>\n",
       "      <td>['text', 'pkt', 'Frzn', 'red', 'Boysenberries'...</td>\n",
       "    </tr>\n",
       "    <tr>\n",
       "      <th>592991</th>\n",
       "      <td>['text', 'Tbsp', 'Extra', 'virgin', 'olive', '...</td>\n",
       "    </tr>\n",
       "    <tr>\n",
       "      <th>592992</th>\n",
       "      <td>['text', 'x', 'Corn', 'Tortillas', 'Onion', 'm...</td>\n",
       "    </tr>\n",
       "    <tr>\n",
       "      <th>592993</th>\n",
       "      <td>['text', 'c', 'stone', 'grnd', 'whole', 'wheat...</td>\n",
       "    </tr>\n",
       "  </tbody>\n",
       "</table>\n",
       "<p>592994 rows × 1 columns</p>\n",
       "</div>"
      ],
      "text/plain": [
       "                                       unique_ingredients\n",
       "0       ['milk', 'water', 'butter', 'mashed', 'potato'...\n",
       "1       ['ounce', 'package', 'watermelon', 'gelatin', ...\n",
       "2       ['shredded', 'coconut', 'lb', 'lean', 'ground'...\n",
       "3       ['fresh', 'rhubarb', 'frozen', 'thawed', 'gran...\n",
       "4       ['flour', 'cinnamon', 'teaspoon', 'baking', 's...\n",
       "...                                                   ...\n",
       "592989  ['text', 'c', 'lemon', 'juice', 'env', 'Good',...\n",
       "592990  ['text', 'pkt', 'Frzn', 'red', 'Boysenberries'...\n",
       "592991  ['text', 'Tbsp', 'Extra', 'virgin', 'olive', '...\n",
       "592992  ['text', 'x', 'Corn', 'Tortillas', 'Onion', 'm...\n",
       "592993  ['text', 'c', 'stone', 'grnd', 'whole', 'wheat...\n",
       "\n",
       "[592994 rows x 1 columns]"
      ]
     },
     "execution_count": 11,
     "metadata": {},
     "output_type": "execute_result"
    }
   ],
   "source": [
    "df_test"
   ]
  },
  {
   "cell_type": "code",
   "execution_count": 12,
   "id": "316a0265",
   "metadata": {},
   "outputs": [],
   "source": [
    "df.drop_duplicates(inplace=True)"
   ]
  },
  {
   "cell_type": "code",
   "execution_count": 13,
   "id": "9c093bc5",
   "metadata": {},
   "outputs": [],
   "source": [
    "import re\n",
    "from nltk.corpus import stopwords\n",
    "from sklearn.feature_extraction.text import CountVectorizer, TfidfVectorizer\n",
    "from sklearn.metrics import accuracy_score"
   ]
  },
  {
   "cell_type": "code",
   "execution_count": 14,
   "id": "9191d372",
   "metadata": {},
   "outputs": [
    {
     "name": "stdout",
     "output_type": "stream",
     "text": [
      "807827\n"
     ]
    }
   ],
   "source": [
    "print(df['ingredients'].apply(lambda x: len(x.split(' '))).sum())"
   ]
  },
  {
   "cell_type": "code",
   "execution_count": 15,
   "id": "22fb320f",
   "metadata": {},
   "outputs": [],
   "source": [
    "special_character_remover = re.compile('[/(){}\\[\\]\\|@,;]')\n",
    "extra_symbol_remover = re.compile('[^0-9a-z #+_]')\n",
    "STOPWORDS = set(stopwords.words('english'))"
   ]
  },
  {
   "cell_type": "code",
   "execution_count": 16,
   "id": "c6e534ec",
   "metadata": {},
   "outputs": [],
   "source": [
    "def clean_text(text):\n",
    "    text = text.lower()\n",
    "    text = special_character_remover.sub(' ', text)\n",
    "    text = extra_symbol_remover.sub('', text)\n",
    "    text = ' '.join(word for word in text.split() if word not in STOPWORDS)\n",
    "    return text\n",
    "    \n",
    "df['ingredients'] = df['ingredients'].apply(clean_text)"
   ]
  },
  {
   "cell_type": "code",
   "execution_count": 17,
   "id": "8c18e25b",
   "metadata": {},
   "outputs": [
    {
     "name": "stdout",
     "output_type": "stream",
     "text": [
      "805043\n"
     ]
    }
   ],
   "source": [
    "print(df['ingredients'].apply(lambda x: len(x.split(' '))).sum())"
   ]
  },
  {
   "cell_type": "code",
   "execution_count": 18,
   "id": "12cf2be1",
   "metadata": {},
   "outputs": [],
   "source": [
    "from sklearn.model_selection import train_test_split\n",
    "X = df.ingredients\n",
    "y = df.cuisine\n",
    "X_train, X_test, y_train, y_test = train_test_split(X, y, test_size=0.3, random_state = 42)"
   ]
  },
  {
   "cell_type": "code",
   "execution_count": 19,
   "id": "0f11c2fb",
   "metadata": {},
   "outputs": [
    {
     "data": {
      "text/plain": [
       "((27841,), (11933,), (27841,), (11933,))"
      ]
     },
     "execution_count": 19,
     "metadata": {},
     "output_type": "execute_result"
    }
   ],
   "source": [
    "X_train.shape,X_test.shape,y_train.shape,y_test.shape"
   ]
  },
  {
   "cell_type": "code",
   "execution_count": 20,
   "id": "6bec0781",
   "metadata": {},
   "outputs": [
    {
     "name": "stderr",
     "output_type": "stream",
     "text": [
      "C:\\Users\\Asus\\Anaconda\\lib\\site-packages\\sklearn\\linear_model\\_logistic.py:763: ConvergenceWarning: lbfgs failed to converge (status=1):\n",
      "STOP: TOTAL NO. of ITERATIONS REACHED LIMIT.\n",
      "\n",
      "Increase the number of iterations (max_iter) or scale the data as shown in:\n",
      "    https://scikit-learn.org/stable/modules/preprocessing.html\n",
      "Please also refer to the documentation for alternative solver options:\n",
      "    https://scikit-learn.org/stable/modules/linear_model.html#logistic-regression\n",
      "  n_iter_i = _check_optimize_result(\n"
     ]
    },
    {
     "name": "stdout",
     "output_type": "stream",
     "text": [
      "Accuracy is : 0.7791837760831308\n"
     ]
    }
   ],
   "source": [
    "from sklearn.linear_model import LogisticRegression\n",
    "from sklearn.pipeline import Pipeline\n",
    "from sklearn.feature_extraction.text import TfidfTransformer\n",
    "\n",
    "lr = Pipeline([('vect', CountVectorizer()),\n",
    "               ('tfidf', TfidfTransformer()),\n",
    "               ('clf', LogisticRegression()),\n",
    "              ])\n",
    "\n",
    "lr.fit(X_train,y_train)\n",
    "y_pred1 = lr.predict(X_test)\n",
    "\n",
    "print(f\"Accuracy is : {accuracy_score(y_pred1,y_test)}\")"
   ]
  },
  {
   "cell_type": "code",
   "execution_count": 21,
   "id": "827ab686",
   "metadata": {},
   "outputs": [
    {
     "name": "stdout",
     "output_type": "stream",
     "text": [
      "Requirement already satisfied: xgboost in c:\\users\\asus\\anaconda\\lib\\site-packages (1.4.2)\n",
      "Requirement already satisfied: numpy in c:\\users\\asus\\anaconda\\lib\\site-packages (from xgboost) (1.19.5)\n",
      "Requirement already satisfied: scipy in c:\\users\\asus\\anaconda\\lib\\site-packages (from xgboost) (1.6.2)\n",
      "Note: you may need to restart the kernel to use updated packages.\n"
     ]
    }
   ],
   "source": [
    "pip install xgboost"
   ]
  },
  {
   "cell_type": "code",
   "execution_count": 22,
   "id": "83bd9eec",
   "metadata": {},
   "outputs": [
    {
     "name": "stderr",
     "output_type": "stream",
     "text": [
      "C:\\Users\\Asus\\Anaconda\\lib\\site-packages\\xgboost\\sklearn.py:1146: UserWarning: The use of label encoder in XGBClassifier is deprecated and will be removed in a future release. To remove this warning, do the following: 1) Pass option use_label_encoder=False when constructing XGBClassifier object; and 2) Encode your labels (y) as integers starting with 0, i.e. 0, 1, 2, ..., [num_class - 1].\n",
      "  warnings.warn(label_encoder_deprecation_msg, UserWarning)\n"
     ]
    },
    {
     "name": "stdout",
     "output_type": "stream",
     "text": [
      "[07:30:57] WARNING: C:/Users/Administrator/workspace/xgboost-win64_release_1.4.0/src/learner.cc:1095: Starting in XGBoost 1.3.0, the default evaluation metric used with the objective 'multi:softprob' was changed from 'merror' to 'mlogloss'. Explicitly set eval_metric if you'd like to restore the old behavior.\n",
      "accuracy 0.7763345344842034\n"
     ]
    }
   ],
   "source": [
    "from xgboost import XGBClassifier\n",
    "\n",
    "xgboost = Pipeline([('vect', CountVectorizer()),\n",
    "               ('tfidf', TfidfTransformer()),\n",
    "               ('clf', XGBClassifier()),\n",
    "              ])\n",
    "xgboost.fit(X_train, y_train)\n",
    "\n",
    "y_pred = xgboost.predict(X_test)\n",
    "\n",
    "print(f'accuracy {accuracy_score(y_pred,y_test)}')\n"
   ]
  },
  {
   "cell_type": "code",
   "execution_count": 23,
   "id": "b99bd3bd",
   "metadata": {},
   "outputs": [
    {
     "name": "stdout",
     "output_type": "stream",
     "text": [
      "Requirement already satisfied: SVC in c:\\users\\asus\\anaconda\\lib\\site-packages (0.1)\n",
      "Requirement already satisfied: xlrd>=0.9.3 in c:\\users\\asus\\anaconda\\lib\\site-packages (from SVC) (2.0.1)\n",
      "Note: you may need to restart the kernel to use updated packages.\n"
     ]
    }
   ],
   "source": [
    "pip install SVC"
   ]
  },
  {
   "cell_type": "code",
   "execution_count": 24,
   "id": "f435978a",
   "metadata": {},
   "outputs": [
    {
     "name": "stdout",
     "output_type": "stream",
     "text": [
      "accuracy 0.7936813877482611\n"
     ]
    }
   ],
   "source": [
    "from sklearn.svm import SVC\n",
    "\n",
    "\n",
    "svc = Pipeline([('vect', CountVectorizer()),\n",
    "               ('tfidf', TfidfTransformer()),\n",
    "               ('clf', SVC(C=1.0, random_state=0, kernel='rbf'))])\n",
    " \n",
    "# Fit the model\n",
    "svc.fit(X_train, y_train)\n",
    "\n",
    "y_pred = svc.predict(X_test)\n",
    "\n",
    "print(f'accuracy {accuracy_score(y_pred,y_test)}')\n",
    "\n"
   ]
  },
  {
   "cell_type": "code",
   "execution_count": 25,
   "id": "9353c9e0",
   "metadata": {},
   "outputs": [
    {
     "data": {
      "text/plain": [
       "21513    pork cooking oil bamboo shoots chinese rice wi...\n",
       "1796     hog casings hungarian paprika ancho powder rio...\n",
       "21861    lamb stock lemon lamb shoulder onions ground c...\n",
       "26571    green peas cinnamon sticks clove chopped onion...\n",
       "28720    vegetable oil spray cumin seed grated parmesan...\n",
       "                               ...                        \n",
       "26480    grill seasoning dried oregano ground cinnamon ...\n",
       "2582     flour salt sugar butter orange ginger baking p...\n",
       "9407     plain yogurt garlic chopped cilantro canola oi...\n",
       "27104    milk eggs extra large eggs granulated sugar va...\n",
       "29719    green bell pepper coarse salt frozen corn oliv...\n",
       "Name: ingredients, Length: 11933, dtype: object"
      ]
     },
     "execution_count": 25,
     "metadata": {},
     "output_type": "execute_result"
    }
   ],
   "source": [
    "X_test"
   ]
  },
  {
   "cell_type": "code",
   "execution_count": 26,
   "id": "b5adf8e4",
   "metadata": {},
   "outputs": [
    {
     "data": {
      "text/html": [
       "<div>\n",
       "<style scoped>\n",
       "    .dataframe tbody tr th:only-of-type {\n",
       "        vertical-align: middle;\n",
       "    }\n",
       "\n",
       "    .dataframe tbody tr th {\n",
       "        vertical-align: top;\n",
       "    }\n",
       "\n",
       "    .dataframe thead th {\n",
       "        text-align: right;\n",
       "    }\n",
       "</style>\n",
       "<table border=\"1\" class=\"dataframe\">\n",
       "  <thead>\n",
       "    <tr style=\"text-align: right;\">\n",
       "      <th></th>\n",
       "      <th>unique_ingredients</th>\n",
       "    </tr>\n",
       "  </thead>\n",
       "  <tbody>\n",
       "    <tr>\n",
       "      <th>0</th>\n",
       "      <td>['milk', 'water', 'butter', 'mashed', 'potato'...</td>\n",
       "    </tr>\n",
       "    <tr>\n",
       "      <th>1</th>\n",
       "      <td>['ounce', 'package', 'watermelon', 'gelatin', ...</td>\n",
       "    </tr>\n",
       "    <tr>\n",
       "      <th>2</th>\n",
       "      <td>['shredded', 'coconut', 'lb', 'lean', 'ground'...</td>\n",
       "    </tr>\n",
       "    <tr>\n",
       "      <th>3</th>\n",
       "      <td>['fresh', 'rhubarb', 'frozen', 'thawed', 'gran...</td>\n",
       "    </tr>\n",
       "    <tr>\n",
       "      <th>4</th>\n",
       "      <td>['flour', 'cinnamon', 'teaspoon', 'baking', 's...</td>\n",
       "    </tr>\n",
       "    <tr>\n",
       "      <th>...</th>\n",
       "      <td>...</td>\n",
       "    </tr>\n",
       "    <tr>\n",
       "      <th>592989</th>\n",
       "      <td>['text', 'c', 'lemon', 'juice', 'env', 'Good',...</td>\n",
       "    </tr>\n",
       "    <tr>\n",
       "      <th>592990</th>\n",
       "      <td>['text', 'pkt', 'Frzn', 'red', 'Boysenberries'...</td>\n",
       "    </tr>\n",
       "    <tr>\n",
       "      <th>592991</th>\n",
       "      <td>['text', 'Tbsp', 'Extra', 'virgin', 'olive', '...</td>\n",
       "    </tr>\n",
       "    <tr>\n",
       "      <th>592992</th>\n",
       "      <td>['text', 'x', 'Corn', 'Tortillas', 'Onion', 'm...</td>\n",
       "    </tr>\n",
       "    <tr>\n",
       "      <th>592993</th>\n",
       "      <td>['text', 'c', 'stone', 'grnd', 'whole', 'wheat...</td>\n",
       "    </tr>\n",
       "  </tbody>\n",
       "</table>\n",
       "<p>592994 rows × 1 columns</p>\n",
       "</div>"
      ],
      "text/plain": [
       "                                       unique_ingredients\n",
       "0       ['milk', 'water', 'butter', 'mashed', 'potato'...\n",
       "1       ['ounce', 'package', 'watermelon', 'gelatin', ...\n",
       "2       ['shredded', 'coconut', 'lb', 'lean', 'ground'...\n",
       "3       ['fresh', 'rhubarb', 'frozen', 'thawed', 'gran...\n",
       "4       ['flour', 'cinnamon', 'teaspoon', 'baking', 's...\n",
       "...                                                   ...\n",
       "592989  ['text', 'c', 'lemon', 'juice', 'env', 'Good',...\n",
       "592990  ['text', 'pkt', 'Frzn', 'red', 'Boysenberries'...\n",
       "592991  ['text', 'Tbsp', 'Extra', 'virgin', 'olive', '...\n",
       "592992  ['text', 'x', 'Corn', 'Tortillas', 'Onion', 'm...\n",
       "592993  ['text', 'c', 'stone', 'grnd', 'whole', 'wheat...\n",
       "\n",
       "[592994 rows x 1 columns]"
      ]
     },
     "execution_count": 26,
     "metadata": {},
     "output_type": "execute_result"
    }
   ],
   "source": [
    "df_test"
   ]
  },
  {
   "cell_type": "code",
   "execution_count": 27,
   "id": "f86af1b3",
   "metadata": {},
   "outputs": [
    {
     "name": "stdout",
     "output_type": "stream",
     "text": [
      "14250116\n"
     ]
    }
   ],
   "source": [
    "print(df_test['unique_ingredients'].apply(lambda x: len(x.split(' '))).sum())"
   ]
  },
  {
   "cell_type": "code",
   "execution_count": 28,
   "id": "9943737f",
   "metadata": {},
   "outputs": [],
   "source": [
    "df_test['unique_ingredients'] = df_test['unique_ingredients'].apply(clean_text)"
   ]
  },
  {
   "cell_type": "code",
   "execution_count": 29,
   "id": "ace9a0c3",
   "metadata": {},
   "outputs": [],
   "source": [
    "prediction_data = df_test.unique_ingredients"
   ]
  },
  {
   "cell_type": "code",
   "execution_count": 30,
   "id": "3f897f83",
   "metadata": {},
   "outputs": [],
   "source": [
    "prediction = svc.predict(prediction_data)\n"
   ]
  },
  {
   "cell_type": "code",
   "execution_count": 32,
   "id": "22b0a1a6",
   "metadata": {},
   "outputs": [
    {
     "data": {
      "text/plain": [
       "array(['southern_us', 'southern_us', 'chinese', ..., 'italian', 'mexican',\n",
       "       'italian'], dtype=object)"
      ]
     },
     "execution_count": 32,
     "metadata": {},
     "output_type": "execute_result"
    }
   ],
   "source": [
    "prediction"
   ]
  },
  {
   "cell_type": "code",
   "execution_count": 61,
   "id": "e484de83",
   "metadata": {},
   "outputs": [
    {
     "name": "stderr",
     "output_type": "stream",
     "text": [
      "<ipython-input-61-aff6c12989f1>:1: SettingWithCopyWarning: \n",
      "A value is trying to be set on a copy of a slice from a DataFrame.\n",
      "Try using .loc[row_indexer,col_indexer] = value instead\n",
      "\n",
      "See the caveats in the documentation: https://pandas.pydata.org/pandas-docs/stable/user_guide/indexing.html#returning-a-view-versus-a-copy\n",
      "  df_test['prediction'] = prediction\n"
     ]
    }
   ],
   "source": [
    "df_test['prediction'] = prediction"
   ]
  },
  {
   "cell_type": "code",
   "execution_count": 62,
   "id": "5642211d",
   "metadata": {},
   "outputs": [
    {
     "data": {
      "text/html": [
       "<div>\n",
       "<style scoped>\n",
       "    .dataframe tbody tr th:only-of-type {\n",
       "        vertical-align: middle;\n",
       "    }\n",
       "\n",
       "    .dataframe tbody tr th {\n",
       "        vertical-align: top;\n",
       "    }\n",
       "\n",
       "    .dataframe thead th {\n",
       "        text-align: right;\n",
       "    }\n",
       "</style>\n",
       "<table border=\"1\" class=\"dataframe\">\n",
       "  <thead>\n",
       "    <tr style=\"text-align: right;\">\n",
       "      <th></th>\n",
       "      <th>unique_ingredients</th>\n",
       "      <th>prediction</th>\n",
       "    </tr>\n",
       "  </thead>\n",
       "  <tbody>\n",
       "    <tr>\n",
       "      <th>0</th>\n",
       "      <td>milk water butter mashed potato homestyle ounc...</td>\n",
       "      <td>southern_us</td>\n",
       "    </tr>\n",
       "    <tr>\n",
       "      <th>1</th>\n",
       "      <td>ounce package watermelon gelatin boiling water...</td>\n",
       "      <td>southern_us</td>\n",
       "    </tr>\n",
       "    <tr>\n",
       "      <th>2</th>\n",
       "      <td>shredded coconut lb lean ground beef minced fr...</td>\n",
       "      <td>chinese</td>\n",
       "    </tr>\n",
       "    <tr>\n",
       "      <th>3</th>\n",
       "      <td>fresh rhubarb frozen thawed granulated sugar o...</td>\n",
       "      <td>southern_us</td>\n",
       "    </tr>\n",
       "    <tr>\n",
       "      <th>4</th>\n",
       "      <td>flour cinnamon teaspoon baking soda salt powde...</td>\n",
       "      <td>southern_us</td>\n",
       "    </tr>\n",
       "    <tr>\n",
       "      <th>...</th>\n",
       "      <td>...</td>\n",
       "      <td>...</td>\n",
       "    </tr>\n",
       "    <tr>\n",
       "      <th>592989</th>\n",
       "      <td>text c lemon juice env good seasons italian sa...</td>\n",
       "      <td>italian</td>\n",
       "    </tr>\n",
       "    <tr>\n",
       "      <th>592990</th>\n",
       "      <td>text pkt frzn red boysenberries light syrup ou...</td>\n",
       "      <td>french</td>\n",
       "    </tr>\n",
       "    <tr>\n",
       "      <th>592991</th>\n",
       "      <td>text tbsp extra virgin olive oil divided c fre...</td>\n",
       "      <td>italian</td>\n",
       "    </tr>\n",
       "    <tr>\n",
       "      <th>592992</th>\n",
       "      <td>text x corn tortillas onion minced ounce chick...</td>\n",
       "      <td>mexican</td>\n",
       "    </tr>\n",
       "    <tr>\n",
       "      <th>592993</th>\n",
       "      <td>text c stone grnd whole wheat possibly graham ...</td>\n",
       "      <td>italian</td>\n",
       "    </tr>\n",
       "  </tbody>\n",
       "</table>\n",
       "<p>592994 rows × 2 columns</p>\n",
       "</div>"
      ],
      "text/plain": [
       "                                       unique_ingredients   prediction\n",
       "0       milk water butter mashed potato homestyle ounc...  southern_us\n",
       "1       ounce package watermelon gelatin boiling water...  southern_us\n",
       "2       shredded coconut lb lean ground beef minced fr...      chinese\n",
       "3       fresh rhubarb frozen thawed granulated sugar o...  southern_us\n",
       "4       flour cinnamon teaspoon baking soda salt powde...  southern_us\n",
       "...                                                   ...          ...\n",
       "592989  text c lemon juice env good seasons italian sa...      italian\n",
       "592990  text pkt frzn red boysenberries light syrup ou...       french\n",
       "592991  text tbsp extra virgin olive oil divided c fre...      italian\n",
       "592992  text x corn tortillas onion minced ounce chick...      mexican\n",
       "592993  text c stone grnd whole wheat possibly graham ...      italian\n",
       "\n",
       "[592994 rows x 2 columns]"
      ]
     },
     "execution_count": 62,
     "metadata": {},
     "output_type": "execute_result"
    }
   ],
   "source": [
    "df_test"
   ]
  },
  {
   "cell_type": "code",
   "execution_count": 63,
   "id": "19c67859",
   "metadata": {},
   "outputs": [],
   "source": [
    "df_test.to_csv('cuisuin_type')"
   ]
  },
  {
   "cell_type": "code",
   "execution_count": 65,
   "id": "78c5b2ed",
   "metadata": {},
   "outputs": [
    {
     "data": {
      "text/html": [
       "<div>\n",
       "<style scoped>\n",
       "    .dataframe tbody tr th:only-of-type {\n",
       "        vertical-align: middle;\n",
       "    }\n",
       "\n",
       "    .dataframe tbody tr th {\n",
       "        vertical-align: top;\n",
       "    }\n",
       "\n",
       "    .dataframe thead th {\n",
       "        text-align: right;\n",
       "    }\n",
       "</style>\n",
       "<table border=\"1\" class=\"dataframe\">\n",
       "  <thead>\n",
       "    <tr style=\"text-align: right;\">\n",
       "      <th></th>\n",
       "      <th>unique_ingredients</th>\n",
       "      <th>prediction</th>\n",
       "    </tr>\n",
       "  </thead>\n",
       "  <tbody>\n",
       "    <tr>\n",
       "      <th>24</th>\n",
       "      <td>lb pumpkin chopped butternut squash large onio...</td>\n",
       "      <td>indian</td>\n",
       "    </tr>\n",
       "    <tr>\n",
       "      <th>36</th>\n",
       "      <td>lb mango chopped teaspoon garlic salt chili po...</td>\n",
       "      <td>indian</td>\n",
       "    </tr>\n",
       "    <tr>\n",
       "      <th>70</th>\n",
       "      <td>wheat germ dalia sugar jaggery ghee chopped al...</td>\n",
       "      <td>indian</td>\n",
       "    </tr>\n",
       "    <tr>\n",
       "      <th>73</th>\n",
       "      <td>boneless skinless chicken thigh onion teaspoon...</td>\n",
       "      <td>indian</td>\n",
       "    </tr>\n",
       "    <tr>\n",
       "      <th>120</th>\n",
       "      <td>butter honey prepared mustard teaspoon salt cu...</td>\n",
       "      <td>indian</td>\n",
       "    </tr>\n",
       "    <tr>\n",
       "      <th>...</th>\n",
       "      <td>...</td>\n",
       "      <td>...</td>\n",
       "    </tr>\n",
       "    <tr>\n",
       "      <th>592845</th>\n",
       "      <td>text c wheat flour plain approximately tbsp ye...</td>\n",
       "      <td>indian</td>\n",
       "    </tr>\n",
       "    <tr>\n",
       "      <th>592854</th>\n",
       "      <td>text yellow lentil masoor dal water tomato tsp...</td>\n",
       "      <td>indian</td>\n",
       "    </tr>\n",
       "    <tr>\n",
       "      <th>592897</th>\n",
       "      <td>text c water bread flour whole wheat tsp nonfa...</td>\n",
       "      <td>indian</td>\n",
       "    </tr>\n",
       "    <tr>\n",
       "      <th>592962</th>\n",
       "      <td>text raita x serving banana c ounce container ...</td>\n",
       "      <td>indian</td>\n",
       "    </tr>\n",
       "    <tr>\n",
       "      <th>592988</th>\n",
       "      <td>text gm broken wheat ml water tbsp jaggery gra...</td>\n",
       "      <td>indian</td>\n",
       "    </tr>\n",
       "  </tbody>\n",
       "</table>\n",
       "<p>16349 rows × 2 columns</p>\n",
       "</div>"
      ],
      "text/plain": [
       "                                       unique_ingredients prediction\n",
       "24      lb pumpkin chopped butternut squash large onio...     indian\n",
       "36      lb mango chopped teaspoon garlic salt chili po...     indian\n",
       "70      wheat germ dalia sugar jaggery ghee chopped al...     indian\n",
       "73      boneless skinless chicken thigh onion teaspoon...     indian\n",
       "120     butter honey prepared mustard teaspoon salt cu...     indian\n",
       "...                                                   ...        ...\n",
       "592845  text c wheat flour plain approximately tbsp ye...     indian\n",
       "592854  text yellow lentil masoor dal water tomato tsp...     indian\n",
       "592897  text c water bread flour whole wheat tsp nonfa...     indian\n",
       "592962  text raita x serving banana c ounce container ...     indian\n",
       "592988  text gm broken wheat ml water tbsp jaggery gra...     indian\n",
       "\n",
       "[16349 rows x 2 columns]"
      ]
     },
     "execution_count": 65,
     "metadata": {},
     "output_type": "execute_result"
    }
   ],
   "source": [
    "df_test.loc[(df_test['prediction']=='indian')]"
   ]
  },
  {
   "cell_type": "code",
   "execution_count": null,
   "id": "21ff6e99",
   "metadata": {},
   "outputs": [],
   "source": []
  }
 ],
 "metadata": {
  "kernelspec": {
   "display_name": "Python 3",
   "language": "python",
   "name": "python3"
  },
  "language_info": {
   "codemirror_mode": {
    "name": "ipython",
    "version": 3
   },
   "file_extension": ".py",
   "mimetype": "text/x-python",
   "name": "python",
   "nbconvert_exporter": "python",
   "pygments_lexer": "ipython3",
   "version": "3.8.8"
  }
 },
 "nbformat": 4,
 "nbformat_minor": 5
}
